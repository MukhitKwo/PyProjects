{
 "cells": [
  {
   "cell_type": "code",
   "execution_count": 6,
   "id": "f7fc1813-f4ed-469f-b59a-9d8220d3af71",
   "metadata": {},
   "outputs": [
    {
     "name": "stdout",
     "output_type": "stream",
     "text": [
      "Hello from JupyterLab\n"
     ]
    }
   ],
   "source": [
    "print(\"Hello from JupyterLab\")"
   ]
  },
  {
   "cell_type": "markdown",
   "id": "af7802df-bbd7-4479-886c-6a6c8fde84bd",
   "metadata": {},
   "source": [
    "# My First Notebook\n",
    "This is **bold text** and this is *italic*."
   ]
  },
  {
   "cell_type": "code",
   "execution_count": null,
   "id": "da528948-efde-44e2-b0ef-b212488c99b1",
   "metadata": {},
   "outputs": [],
   "source": []
  }
 ],
 "metadata": {
  "kernelspec": {
   "display_name": "Python 3 (ipykernel)",
   "language": "python",
   "name": "python3"
  },
  "language_info": {
   "codemirror_mode": {
    "name": "ipython",
    "version": 3
   },
   "file_extension": ".py",
   "mimetype": "text/x-python",
   "name": "python",
   "nbconvert_exporter": "python",
   "pygments_lexer": "ipython3",
   "version": "3.13.1"
  }
 },
 "nbformat": 4,
 "nbformat_minor": 5
}
